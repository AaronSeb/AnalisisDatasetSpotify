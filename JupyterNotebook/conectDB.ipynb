{
 "cells": [
  {
   "cell_type": "code",
   "execution_count": 14,
   "metadata": {},
   "outputs": [
    {
     "data": {
      "text/plain": [
       "True"
      ]
     },
     "execution_count": 14,
     "metadata": {},
     "output_type": "execute_result"
    }
   ],
   "source": [
    "import pandas as pd\n",
    "import pyodbc as db\n",
    "import os\n",
    "from dotenv import load_dotenv\n",
    "load_dotenv()"
   ]
  },
  {
   "cell_type": "code",
   "execution_count": 15,
   "metadata": {},
   "outputs": [],
   "source": [
    "# VARIABLES PARA CONECTAR A MI BASE DE DATOS EN SQL SERVER\n",
    "server = os.getenv(\"SERVER\")\n",
    "database = os.getenv(\"DATABASE\")\n",
    "username = os.getenv(\"USERNAME\")\n",
    "password = os.getenv(\"PASSWORD\")\n",
    "driver = os.getenv(\"DRIVER\")"
   ]
  },
  {
   "cell_type": "code",
   "execution_count": 16,
   "metadata": {},
   "outputs": [],
   "source": [
    "#CONEXIÓN\n",
    "conn = db.connect('DRIVER='+driver+';SERVER='+server+';DATABASE='+database+';UID='+username+';PWD='+ password)"
   ]
  },
  {
   "cell_type": "code",
   "execution_count": 17,
   "metadata": {},
   "outputs": [],
   "source": [
    "#CONSULTA 1 SQL a mi tabla sin limpiar\n",
    "sql_query_db = \"SELECT DISTINCT artists FROM datos_spotify ORDER BY artists\""
   ]
  },
  {
   "cell_type": "code",
   "execution_count": 18,
   "metadata": {},
   "outputs": [
    {
     "name": "stderr",
     "output_type": "stream",
     "text": [
      "C:\\Users\\Aaron\\AppData\\Local\\Temp\\ipykernel_31384\\1723393235.py:2: UserWarning: pandas only supports SQLAlchemy connectable (engine/connection) or database string URI or sqlite3 DBAPI2 connection. Other DBAPI2 objects are not tested. Please consider using SQLAlchemy.\n",
      "  db_data = pd.read_sql(sql_query_db,conn)\n"
     ]
    }
   ],
   "source": [
    "#LEYENDO LA CONSULTA SQL\n",
    "db_data = pd.read_sql(sql_query_db,conn)"
   ]
  },
  {
   "cell_type": "code",
   "execution_count": 6,
   "metadata": {},
   "outputs": [],
   "source": [
    "#LEYENDO EL ARCHIVO CSV\n",
    "csv_data = pd.read_csv('C:/Users/Aaron/Desktop/python_Analisis/Portafolio/data_spotify_clean.csv')"
   ]
  },
  {
   "cell_type": "code",
   "execution_count": 19,
   "metadata": {},
   "outputs": [
    {
     "data": {
      "text/html": [
       "<div>\n",
       "<style scoped>\n",
       "    .dataframe tbody tr th:only-of-type {\n",
       "        vertical-align: middle;\n",
       "    }\n",
       "\n",
       "    .dataframe tbody tr th {\n",
       "        vertical-align: top;\n",
       "    }\n",
       "\n",
       "    .dataframe thead th {\n",
       "        text-align: right;\n",
       "    }\n",
       "</style>\n",
       "<table border=\"1\" class=\"dataframe\">\n",
       "  <thead>\n",
       "    <tr style=\"text-align: right;\">\n",
       "      <th></th>\n",
       "      <th>artists</th>\n",
       "    </tr>\n",
       "  </thead>\n",
       "  <tbody>\n",
       "    <tr>\n",
       "      <th>0</th>\n",
       "      <td>None</td>\n",
       "    </tr>\n",
       "    <tr>\n",
       "      <th>1</th>\n",
       "      <td>!nvite</td>\n",
       "    </tr>\n",
       "    <tr>\n",
       "      <th>2</th>\n",
       "      <td>\"Puppy Dog Pals\" Cast</td>\n",
       "    </tr>\n",
       "    <tr>\n",
       "      <th>3</th>\n",
       "      <td>\"Weird Al\" Yankovic</td>\n",
       "    </tr>\n",
       "    <tr>\n",
       "      <th>4</th>\n",
       "      <td>#Kids;Nursery Rhymes;Nursery Rhymes and Kids S...</td>\n",
       "    </tr>\n",
       "    <tr>\n",
       "      <th>...</th>\n",
       "      <td>...</td>\n",
       "    </tr>\n",
       "    <tr>\n",
       "      <th>31424</th>\n",
       "      <td>黃仲崑</td>\n",
       "    </tr>\n",
       "    <tr>\n",
       "      <th>31425</th>\n",
       "      <td>黃妃</td>\n",
       "    </tr>\n",
       "    <tr>\n",
       "      <th>31426</th>\n",
       "      <td>黃小琥</td>\n",
       "    </tr>\n",
       "    <tr>\n",
       "      <th>31427</th>\n",
       "      <td>黃敏華</td>\n",
       "    </tr>\n",
       "    <tr>\n",
       "      <th>31428</th>\n",
       "      <td>龍藏Ryuzo</td>\n",
       "    </tr>\n",
       "  </tbody>\n",
       "</table>\n",
       "<p>31429 rows × 1 columns</p>\n",
       "</div>"
      ],
      "text/plain": [
       "                                                 artists\n",
       "0                                                   None\n",
       "1                                                 !nvite\n",
       "2                                  \"Puppy Dog Pals\" Cast\n",
       "3                                    \"Weird Al\" Yankovic\n",
       "4      #Kids;Nursery Rhymes;Nursery Rhymes and Kids S...\n",
       "...                                                  ...\n",
       "31424                                                黃仲崑\n",
       "31425                                                 黃妃\n",
       "31426                                                黃小琥\n",
       "31427                                                黃敏華\n",
       "31428                                            龍藏Ryuzo\n",
       "\n",
       "[31429 rows x 1 columns]"
      ]
     },
     "execution_count": 19,
     "metadata": {},
     "output_type": "execute_result"
    }
   ],
   "source": [
    "#IMPRIMIENDO LA CONSULTA EN EL FRAME DE LA BASE DE DATOS\n",
    "db_data"
   ]
  },
  {
   "cell_type": "code",
   "execution_count": 8,
   "metadata": {},
   "outputs": [
    {
     "data": {
      "text/html": [
       "<div>\n",
       "<style scoped>\n",
       "    .dataframe tbody tr th:only-of-type {\n",
       "        vertical-align: middle;\n",
       "    }\n",
       "\n",
       "    .dataframe tbody tr th {\n",
       "        vertical-align: top;\n",
       "    }\n",
       "\n",
       "    .dataframe thead th {\n",
       "        text-align: right;\n",
       "    }\n",
       "</style>\n",
       "<table border=\"1\" class=\"dataframe\">\n",
       "  <thead>\n",
       "    <tr style=\"text-align: right;\">\n",
       "      <th></th>\n",
       "      <th>0</th>\n",
       "    </tr>\n",
       "  </thead>\n",
       "  <tbody>\n",
       "    <tr>\n",
       "      <th>0</th>\n",
       "      <td>Cody Fry</td>\n",
       "    </tr>\n",
       "    <tr>\n",
       "      <th>1</th>\n",
       "      <td>Ruffneck;Yavahn;Sharam Jey;Kolombo</td>\n",
       "    </tr>\n",
       "    <tr>\n",
       "      <th>2</th>\n",
       "      <td>Sports</td>\n",
       "    </tr>\n",
       "    <tr>\n",
       "      <th>3</th>\n",
       "      <td>Capital Inicial;Seu Jorge</td>\n",
       "    </tr>\n",
       "    <tr>\n",
       "      <th>4</th>\n",
       "      <td>DJ Ghost Floripa</td>\n",
       "    </tr>\n",
       "    <tr>\n",
       "      <th>...</th>\n",
       "      <td>...</td>\n",
       "    </tr>\n",
       "    <tr>\n",
       "      <th>31433</th>\n",
       "      <td>Frankie Knuckles;Director's Cut;Eric Kupper;Ja...</td>\n",
       "    </tr>\n",
       "    <tr>\n",
       "      <th>31434</th>\n",
       "      <td>Steve Aoki;BTS</td>\n",
       "    </tr>\n",
       "    <tr>\n",
       "      <th>31435</th>\n",
       "      <td>Dub Pistols;Cutty Ranks;Seanie T</td>\n",
       "    </tr>\n",
       "    <tr>\n",
       "      <th>31436</th>\n",
       "      <td>Mott The Hoople</td>\n",
       "    </tr>\n",
       "    <tr>\n",
       "      <th>31437</th>\n",
       "      <td>Anirudh Ravichander;Inno Genga</td>\n",
       "    </tr>\n",
       "  </tbody>\n",
       "</table>\n",
       "<p>31438 rows × 1 columns</p>\n",
       "</div>"
      ],
      "text/plain": [
       "                                                       0\n",
       "0                                               Cody Fry\n",
       "1                     Ruffneck;Yavahn;Sharam Jey;Kolombo\n",
       "2                                                 Sports\n",
       "3                              Capital Inicial;Seu Jorge\n",
       "4                                       DJ Ghost Floripa\n",
       "...                                                  ...\n",
       "31433  Frankie Knuckles;Director's Cut;Eric Kupper;Ja...\n",
       "31434                                     Steve Aoki;BTS\n",
       "31435                   Dub Pistols;Cutty Ranks;Seanie T\n",
       "31436                                    Mott The Hoople\n",
       "31437                     Anirudh Ravichander;Inno Genga\n",
       "\n",
       "[31438 rows x 1 columns]"
      ]
     },
     "execution_count": 8,
     "metadata": {},
     "output_type": "execute_result"
    }
   ],
   "source": [
    "#EXTRAYENDO VALORES UNICOS DEL ARCHIVO CSV DEL CAMPO ARTISTS Y MOSTRANDOLOS EN UN DATAFRAME\n",
    "valores_unicos=set(csv_data['artists'].unique())\n",
    "data_frame_csv = pd.DataFrame(valores_unicos)\n",
    "data_frame_csv"
   ]
  },
  {
   "cell_type": "code",
   "execution_count": 19,
   "metadata": {},
   "outputs": [],
   "source": [
    "#CONSULTA SQL 2 FALLANDO\n",
    "sql_query = \"\"\"\n",
    "SELECT t1.artists as artistDB, t2.artists as artists_csv\n",
    "FROM datos_spotify AS t1\n",
    "FULL OUTER JOIN(\n",
    "    SELECT DISTINCT artists FROM {csv_data}\n",
    ")t2\n",
    "ON t1.artists= t2.artists\n",
    "WHERE t1.artists IS NULL OR t2.artists IS NULL\n",
    "\"\"\""
   ]
  },
  {
   "cell_type": "code",
   "execution_count": 9,
   "metadata": {},
   "outputs": [],
   "source": [
    "#VER CUALES SON LOS QUE FALTAN \"SET\" ES UNA ESTRUCTURA QUE NO PERMITE DUPLICADOS\n",
    "artists_csv = set(csv_data['artists'])\n",
    "artists_bd = set(db_data['artists'])"
   ]
  },
  {
   "cell_type": "code",
   "execution_count": 10,
   "metadata": {},
   "outputs": [
    {
     "data": {
      "text/html": [
       "<div>\n",
       "<style scoped>\n",
       "    .dataframe tbody tr th:only-of-type {\n",
       "        vertical-align: middle;\n",
       "    }\n",
       "\n",
       "    .dataframe tbody tr th {\n",
       "        vertical-align: top;\n",
       "    }\n",
       "\n",
       "    .dataframe thead th {\n",
       "        text-align: right;\n",
       "    }\n",
       "</style>\n",
       "<table border=\"1\" class=\"dataframe\">\n",
       "  <thead>\n",
       "    <tr style=\"text-align: right;\">\n",
       "      <th></th>\n",
       "      <th>0</th>\n",
       "    </tr>\n",
       "  </thead>\n",
       "  <tbody>\n",
       "    <tr>\n",
       "      <th>0</th>\n",
       "      <td>LISA</td>\n",
       "    </tr>\n",
       "    <tr>\n",
       "      <th>1</th>\n",
       "      <td>Desejo de Menina</td>\n",
       "    </tr>\n",
       "    <tr>\n",
       "      <th>2</th>\n",
       "      <td>Deadlife</td>\n",
       "    </tr>\n",
       "    <tr>\n",
       "      <th>3</th>\n",
       "      <td>DJ Fixx;Ondamike</td>\n",
       "    </tr>\n",
       "    <tr>\n",
       "      <th>4</th>\n",
       "      <td>LOS HERMANOS</td>\n",
       "    </tr>\n",
       "    <tr>\n",
       "      <th>5</th>\n",
       "      <td>Surade|3AM VIBES</td>\n",
       "    </tr>\n",
       "    <tr>\n",
       "      <th>6</th>\n",
       "      <td>Ralphi Rosario;Donna Blakely;lego</td>\n",
       "    </tr>\n",
       "    <tr>\n",
       "      <th>7</th>\n",
       "      <td>TERRA</td>\n",
       "    </tr>\n",
       "    <tr>\n",
       "      <th>8</th>\n",
       "      <td>Shine</td>\n",
       "    </tr>\n",
       "    <tr>\n",
       "      <th>9</th>\n",
       "      <td>NaN</td>\n",
       "    </tr>\n",
       "    <tr>\n",
       "      <th>10</th>\n",
       "      <td>FISHER</td>\n",
       "    </tr>\n",
       "  </tbody>\n",
       "</table>\n",
       "</div>"
      ],
      "text/plain": [
       "                                    0\n",
       "0                                LISA\n",
       "1                    Desejo de Menina\n",
       "2                            Deadlife\n",
       "3                    DJ Fixx;Ondamike\n",
       "4                        LOS HERMANOS\n",
       "5                    Surade|3AM VIBES\n",
       "6   Ralphi Rosario;Donna Blakely;lego\n",
       "7                               TERRA\n",
       "8                               Shine\n",
       "9                                 NaN\n",
       "10                             FISHER"
      ]
     },
     "execution_count": 10,
     "metadata": {},
     "output_type": "execute_result"
    }
   ],
   "source": [
    "#AVERIGUANDO QUE ARTISTAS FALTAN EN LA BASE DE DATOS\n",
    "artistas_faltantes_en_DB= artists_csv-artists_bd\n",
    "data_frame_artists_faltantes_DB = pd.DataFrame(artistas_faltantes_en_DB)\n",
    "data_frame_artists_faltantes_DB"
   ]
  },
  {
   "cell_type": "code",
   "execution_count": 11,
   "metadata": {},
   "outputs": [
    {
     "data": {
      "text/html": [
       "<div>\n",
       "<style scoped>\n",
       "    .dataframe tbody tr th:only-of-type {\n",
       "        vertical-align: middle;\n",
       "    }\n",
       "\n",
       "    .dataframe tbody tr th {\n",
       "        vertical-align: top;\n",
       "    }\n",
       "\n",
       "    .dataframe thead th {\n",
       "        text-align: right;\n",
       "    }\n",
       "</style>\n",
       "<table border=\"1\" class=\"dataframe\">\n",
       "  <thead>\n",
       "    <tr style=\"text-align: right;\">\n",
       "      <th></th>\n",
       "      <th>0</th>\n",
       "    </tr>\n",
       "  </thead>\n",
       "  <tbody>\n",
       "    <tr>\n",
       "      <th>0</th>\n",
       "      <td>Surade;3AM VIBES</td>\n",
       "    </tr>\n",
       "    <tr>\n",
       "      <th>1</th>\n",
       "      <td>None</td>\n",
       "    </tr>\n",
       "  </tbody>\n",
       "</table>\n",
       "</div>"
      ],
      "text/plain": [
       "                  0\n",
       "0  Surade;3AM VIBES\n",
       "1              None"
      ]
     },
     "execution_count": 11,
     "metadata": {},
     "output_type": "execute_result"
    }
   ],
   "source": [
    "# AVERIGUANDO QUE ARTISTAS FALTAN EN EL ARCHIVO CSV\n",
    "artistas_faltantes_en_csv=artists_bd-artists_csv\n",
    "data_frame_artists_faltantes_csv = pd.DataFrame(artistas_faltantes_en_csv)\n",
    "data_frame_artists_faltantes_csv"
   ]
  },
  {
   "cell_type": "code",
   "execution_count": null,
   "metadata": {},
   "outputs": [],
   "source": [
    "#CONCLUSIÓN NORMALIZAR LOS DATOS EN ARTISTAS"
   ]
  }
 ],
 "metadata": {
  "kernelspec": {
   "display_name": "space1",
   "language": "python",
   "name": "python3"
  },
  "language_info": {
   "codemirror_mode": {
    "name": "ipython",
    "version": 3
   },
   "file_extension": ".py",
   "mimetype": "text/x-python",
   "name": "python",
   "nbconvert_exporter": "python",
   "pygments_lexer": "ipython3",
   "version": "3.11.8"
  }
 },
 "nbformat": 4,
 "nbformat_minor": 2
}
